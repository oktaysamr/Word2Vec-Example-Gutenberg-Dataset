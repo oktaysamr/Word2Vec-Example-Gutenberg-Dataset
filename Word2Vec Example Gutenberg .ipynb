{
 "cells": [
  {
   "cell_type": "code",
   "execution_count": 1,
   "metadata": {},
   "outputs": [
    {
     "name": "stderr",
     "output_type": "stream",
     "text": [
      "[nltk_data] Downloading package gutenberg to\n",
      "[nltk_data]     C:\\Users\\oktay\\AppData\\Roaming\\nltk_data...\n",
      "[nltk_data]   Package gutenberg is already up-to-date!\n"
     ]
    },
    {
     "data": {
      "text/plain": [
       "['austen-emma.txt',\n",
       " 'austen-persuasion.txt',\n",
       " 'austen-sense.txt',\n",
       " 'bible-kjv.txt',\n",
       " 'blake-poems.txt',\n",
       " 'bryant-stories.txt',\n",
       " 'burgess-busterbrown.txt',\n",
       " 'carroll-alice.txt',\n",
       " 'chesterton-ball.txt',\n",
       " 'chesterton-brown.txt',\n",
       " 'chesterton-thursday.txt',\n",
       " 'edgeworth-parents.txt',\n",
       " 'melville-moby_dick.txt',\n",
       " 'milton-paradise.txt',\n",
       " 'shakespeare-caesar.txt',\n",
       " 'shakespeare-hamlet.txt',\n",
       " 'shakespeare-macbeth.txt',\n",
       " 'whitman-leaves.txt']"
      ]
     },
     "execution_count": 1,
     "metadata": {},
     "output_type": "execute_result"
    }
   ],
   "source": [
    "from nltk.corpus import gutenberg\n",
    "import nltk\n",
    "nltk.download('gutenberg')\n",
    "gutenberg.fileids()"
   ]
  },
  {
   "cell_type": "code",
   "execution_count": 2,
   "metadata": {},
   "outputs": [],
   "source": [
    "austen_emma_words = gutenberg.words('austen-emma.txt')"
   ]
  },
  {
   "cell_type": "code",
   "execution_count": 3,
   "metadata": {},
   "outputs": [
    {
     "data": {
      "text/plain": [
       "192427"
      ]
     },
     "execution_count": 3,
     "metadata": {},
     "output_type": "execute_result"
    }
   ],
   "source": [
    "len(austen_emma_words)"
   ]
  },
  {
   "cell_type": "code",
   "execution_count": 4,
   "metadata": {},
   "outputs": [],
   "source": [
    "austen_emma_sents = gutenberg.sents('austen-emma.txt')"
   ]
  },
  {
   "cell_type": "code",
   "execution_count": 5,
   "metadata": {},
   "outputs": [
    {
     "data": {
      "text/plain": [
       "7752"
      ]
     },
     "execution_count": 5,
     "metadata": {},
     "output_type": "execute_result"
    }
   ],
   "source": [
    "len(austen_emma_sents)"
   ]
  },
  {
   "cell_type": "code",
   "execution_count": 6,
   "metadata": {},
   "outputs": [
    {
     "data": {
      "text/plain": [
       "['[', 'Emma', 'by', 'Jane', 'Austen', '1816', ']']"
      ]
     },
     "execution_count": 6,
     "metadata": {},
     "output_type": "execute_result"
    }
   ],
   "source": [
    " austen_emma_sents[0]"
   ]
  },
  {
   "cell_type": "code",
   "execution_count": 7,
   "metadata": {},
   "outputs": [
    {
     "data": {
      "text/plain": [
       "['He',\n",
       " 'and',\n",
       " 'Mrs',\n",
       " '.',\n",
       " 'Weston',\n",
       " 'were',\n",
       " 'both',\n",
       " 'dreadfully',\n",
       " 'desponding',\n",
       " '.']"
      ]
     },
     "execution_count": 7,
     "metadata": {},
     "output_type": "execute_result"
    }
   ],
   "source": [
    "austen_emma_sents[5000]"
   ]
  },
  {
   "cell_type": "code",
   "execution_count": 8,
   "metadata": {},
   "outputs": [],
   "source": [
    "import logging"
   ]
  },
  {
   "cell_type": "code",
   "execution_count": 9,
   "metadata": {},
   "outputs": [
    {
     "name": "stderr",
     "output_type": "stream",
     "text": [
      "C:\\Users\\oktay\\Anaconda3\\lib\\site-packages\\gensim\\utils.py:1197: UserWarning: detected Windows; aliasing chunkize to chunkize_serial\n",
      "  warnings.warn(\"detected Windows; aliasing chunkize to chunkize_serial\")\n"
     ]
    }
   ],
   "source": [
    "from gensim.models import word2vec\n",
    " \n",
    "logging.basicConfig(format='%(asctime)s : %(levelname)s : %(message)s', level=logging.INFO)"
   ]
  },
  {
   "cell_type": "code",
   "execution_count": 10,
   "metadata": {},
   "outputs": [],
   "source": [
    "bible_kjv_words = gutenberg.words('bible-kjv.txt')"
   ]
  },
  {
   "cell_type": "code",
   "execution_count": 11,
   "metadata": {},
   "outputs": [
    {
     "data": {
      "text/plain": [
       "1010654"
      ]
     },
     "execution_count": 11,
     "metadata": {},
     "output_type": "execute_result"
    }
   ],
   "source": [
    "len(bible_kjv_words)"
   ]
  },
  {
   "cell_type": "code",
   "execution_count": 12,
   "metadata": {},
   "outputs": [],
   "source": [
    "bible_kjv_sents = gutenberg.sents('bible-kjv.txt')"
   ]
  },
  {
   "cell_type": "code",
   "execution_count": 13,
   "metadata": {},
   "outputs": [
    {
     "data": {
      "text/plain": [
       "30103"
      ]
     },
     "execution_count": 13,
     "metadata": {},
     "output_type": "execute_result"
    }
   ],
   "source": [
    "len(bible_kjv_sents)"
   ]
  },
  {
   "cell_type": "code",
   "execution_count": 14,
   "metadata": {},
   "outputs": [
    {
     "data": {
      "text/plain": [
       "['[', 'The', 'King', 'James', 'Bible', ']']"
      ]
     },
     "execution_count": 14,
     "metadata": {},
     "output_type": "execute_result"
    }
   ],
   "source": [
    "bible_kjv_sents[0]"
   ]
  },
  {
   "cell_type": "code",
   "execution_count": 15,
   "metadata": {},
   "outputs": [
    {
     "data": {
      "text/plain": [
       "['The', 'Old', 'Testament', 'of', 'the', 'King', 'James', 'Bible']"
      ]
     },
     "execution_count": 15,
     "metadata": {},
     "output_type": "execute_result"
    }
   ],
   "source": [
    "bible_kjv_sents[1]"
   ]
  },
  {
   "cell_type": "code",
   "execution_count": 16,
   "metadata": {},
   "outputs": [
    {
     "data": {
      "text/plain": [
       "['The', 'First', 'Book', 'of', 'Moses', ':', 'Called', 'Genesis']"
      ]
     },
     "execution_count": 16,
     "metadata": {},
     "output_type": "execute_result"
    }
   ],
   "source": [
    "bible_kjv_sents[2]"
   ]
  },
  {
   "cell_type": "code",
   "execution_count": 17,
   "metadata": {},
   "outputs": [
    {
     "data": {
      "text/plain": [
       "['1',\n",
       " ':',\n",
       " '1',\n",
       " 'In',\n",
       " 'the',\n",
       " 'beginning',\n",
       " 'God',\n",
       " 'created',\n",
       " 'the',\n",
       " 'heaven',\n",
       " 'and',\n",
       " 'the',\n",
       " 'earth',\n",
       " '.']"
      ]
     },
     "execution_count": 17,
     "metadata": {},
     "output_type": "execute_result"
    }
   ],
   "source": [
    "bible_kjv_sents[3]"
   ]
  },
  {
   "cell_type": "code",
   "execution_count": 18,
   "metadata": {},
   "outputs": [],
   "source": [
    "from string import punctuation"
   ]
  },
  {
   "cell_type": "code",
   "execution_count": 19,
   "metadata": {},
   "outputs": [
    {
     "data": {
      "text/plain": [
       "'!\"#$%&\\'()*+,-./:;<=>?@[\\\\]^_`{|}~'"
      ]
     },
     "execution_count": 19,
     "metadata": {},
     "output_type": "execute_result"
    }
   ],
   "source": [
    "punctuation"
   ]
  },
  {
   "cell_type": "code",
   "execution_count": 20,
   "metadata": {},
   "outputs": [],
   "source": [
    "# The words in nltk corpus has been word tokenized, so we just discard the punctuation from the words\n",
    "# and lowercased the words.\n",
    "discard_punctuation_and_lowercased_sents = [[word.lower() for word in sent if word not in punctuation] for sent in bible_kjv_sents]\n",
    " "
   ]
  },
  {
   "cell_type": "code",
   "execution_count": 21,
   "metadata": {},
   "outputs": [
    {
     "data": {
      "text/plain": [
       "['the', 'king', 'james', 'bible']"
      ]
     },
     "execution_count": 21,
     "metadata": {},
     "output_type": "execute_result"
    }
   ],
   "source": [
    "discard_punctuation_and_lowercased_sents[0]"
   ]
  },
  {
   "cell_type": "code",
   "execution_count": 22,
   "metadata": {},
   "outputs": [
    {
     "data": {
      "text/plain": [
       "['the', 'old', 'testament', 'of', 'the', 'king', 'james', 'bible']"
      ]
     },
     "execution_count": 22,
     "metadata": {},
     "output_type": "execute_result"
    }
   ],
   "source": [
    "discard_punctuation_and_lowercased_sents[1]"
   ]
  },
  {
   "cell_type": "code",
   "execution_count": 23,
   "metadata": {},
   "outputs": [
    {
     "data": {
      "text/plain": [
       "['the', 'first', 'book', 'of', 'moses', 'called', 'genesis']"
      ]
     },
     "execution_count": 23,
     "metadata": {},
     "output_type": "execute_result"
    }
   ],
   "source": [
    "discard_punctuation_and_lowercased_sents[2]"
   ]
  },
  {
   "cell_type": "code",
   "execution_count": 24,
   "metadata": {},
   "outputs": [
    {
     "data": {
      "text/plain": [
       "['1',\n",
       " '1',\n",
       " 'in',\n",
       " 'the',\n",
       " 'beginning',\n",
       " 'god',\n",
       " 'created',\n",
       " 'the',\n",
       " 'heaven',\n",
       " 'and',\n",
       " 'the',\n",
       " 'earth']"
      ]
     },
     "execution_count": 24,
     "metadata": {},
     "output_type": "execute_result"
    }
   ],
   "source": [
    "discard_punctuation_and_lowercased_sents[3]"
   ]
  },
  {
   "cell_type": "code",
   "execution_count": 25,
   "metadata": {},
   "outputs": [
    {
     "name": "stderr",
     "output_type": "stream",
     "text": [
      "2020-05-25 15:04:59,304 : INFO : collecting all words and their counts\n",
      "2020-05-25 15:04:59,308 : INFO : PROGRESS: at sentence #0, processed 0 words, keeping 0 word types\n",
      "2020-05-25 15:04:59,386 : INFO : PROGRESS: at sentence #10000, processed 315257 words, keeping 7115 word types\n",
      "2020-05-25 15:04:59,435 : INFO : PROGRESS: at sentence #20000, processed 572559 words, keeping 10329 word types\n",
      "2020-05-25 15:04:59,499 : INFO : PROGRESS: at sentence #30000, processed 851171 words, keeping 12741 word types\n",
      "2020-05-25 15:04:59,501 : INFO : collected 12755 word types from a corpus of 854254 raw words and 30103 sentences\n",
      "2020-05-25 15:04:59,502 : INFO : Loading a fresh vocabulary\n",
      "2020-05-25 15:04:59,524 : INFO : min_count=5 retains 5429 unique words (42% of original 12755, drops 7326)\n",
      "2020-05-25 15:04:59,525 : INFO : min_count=5 leaves 841347 word corpus (98% of original 854254, drops 12907)\n",
      "2020-05-25 15:04:59,556 : INFO : deleting the raw counts dictionary of 12755 items\n",
      "2020-05-25 15:04:59,558 : INFO : sample=0.001 downsamples 62 most-common words\n",
      "2020-05-25 15:04:59,560 : INFO : downsampling leaves estimated 583835 word corpus (69.4% of prior 841347)\n",
      "2020-05-25 15:04:59,584 : INFO : estimated required memory for 5429 words and 200 dimensions: 11400900 bytes\n",
      "2020-05-25 15:04:59,586 : INFO : resetting layer weights\n",
      "2020-05-25 15:04:59,694 : INFO : training model with 3 workers on 5429 vocabulary and 200 features, using sg=0 hs=0 sample=0.001 negative=5 window=5\n",
      "2020-05-25 15:05:00,292 : INFO : worker thread finished; awaiting finish of 2 more threads\n",
      "2020-05-25 15:05:00,298 : INFO : worker thread finished; awaiting finish of 1 more threads\n",
      "2020-05-25 15:05:00,299 : INFO : worker thread finished; awaiting finish of 0 more threads\n",
      "2020-05-25 15:05:00,300 : INFO : EPOCH - 1 : training on 854254 raw words (583949 effective words) took 0.5s, 1075525 effective words/s\n",
      "2020-05-25 15:05:00,765 : INFO : worker thread finished; awaiting finish of 2 more threads\n",
      "2020-05-25 15:05:00,772 : INFO : worker thread finished; awaiting finish of 1 more threads\n",
      "2020-05-25 15:05:00,774 : INFO : worker thread finished; awaiting finish of 0 more threads\n",
      "2020-05-25 15:05:00,774 : INFO : EPOCH - 2 : training on 854254 raw words (583920 effective words) took 0.5s, 1251342 effective words/s\n",
      "2020-05-25 15:05:01,264 : INFO : worker thread finished; awaiting finish of 2 more threads\n",
      "2020-05-25 15:05:01,265 : INFO : worker thread finished; awaiting finish of 1 more threads\n",
      "2020-05-25 15:05:01,266 : INFO : worker thread finished; awaiting finish of 0 more threads\n",
      "2020-05-25 15:05:01,267 : INFO : EPOCH - 3 : training on 854254 raw words (583824 effective words) took 0.5s, 1207681 effective words/s\n",
      "2020-05-25 15:05:01,717 : INFO : worker thread finished; awaiting finish of 2 more threads\n",
      "2020-05-25 15:05:01,720 : INFO : worker thread finished; awaiting finish of 1 more threads\n",
      "2020-05-25 15:05:01,723 : INFO : worker thread finished; awaiting finish of 0 more threads\n",
      "2020-05-25 15:05:01,724 : INFO : EPOCH - 4 : training on 854254 raw words (584211 effective words) took 0.4s, 1299394 effective words/s\n",
      "2020-05-25 15:05:02,219 : INFO : worker thread finished; awaiting finish of 2 more threads\n",
      "2020-05-25 15:05:02,225 : INFO : worker thread finished; awaiting finish of 1 more threads\n",
      "2020-05-25 15:05:02,227 : INFO : worker thread finished; awaiting finish of 0 more threads\n",
      "2020-05-25 15:05:02,228 : INFO : EPOCH - 5 : training on 854254 raw words (583692 effective words) took 0.5s, 1178211 effective words/s\n",
      "2020-05-25 15:05:02,229 : INFO : training on a 4271270 raw words (2919596 effective words) took 2.5s, 1152006 effective words/s\n"
     ]
    }
   ],
   "source": [
    "bible_kjv_word2vec_model = word2vec.Word2Vec(discard_punctuation_and_lowercased_sents, min_count=5, size=200)"
   ]
  },
  {
   "cell_type": "code",
   "execution_count": 26,
   "metadata": {},
   "outputs": [
    {
     "name": "stderr",
     "output_type": "stream",
     "text": [
      "2020-05-25 15:05:02,241 : INFO : saving Word2Vec object under bible_word2vec_gensim, separately None\n",
      "2020-05-25 15:05:02,243 : INFO : not storing attribute vectors_norm\n",
      "2020-05-25 15:05:02,245 : INFO : not storing attribute cum_table\n",
      "2020-05-25 15:05:02,377 : INFO : saved bible_word2vec_gensim\n"
     ]
    }
   ],
   "source": [
    "bible_kjv_word2vec_model.save(\"bible_word2vec_gensim\")"
   ]
  },
  {
   "cell_type": "code",
   "execution_count": 27,
   "metadata": {},
   "outputs": [
    {
     "name": "stderr",
     "output_type": "stream",
     "text": [
      "2020-05-25 15:05:02,385 : INFO : storing vocabulary in bible_word2vec_vocabulary\n",
      "2020-05-25 15:05:02,415 : INFO : storing 5429x200 projection weights into bible_word2vec_org\n"
     ]
    }
   ],
   "source": [
    "bible_kjv_word2vec_model.wv.save_word2vec_format(\"bible_word2vec_org\", \"bible_word2vec_vocabulary\")"
   ]
  },
  {
   "cell_type": "code",
   "execution_count": 28,
   "metadata": {},
   "outputs": [
    {
     "name": "stderr",
     "output_type": "stream",
     "text": [
      "C:\\Users\\oktay\\Anaconda3\\lib\\site-packages\\ipykernel_launcher.py:1: DeprecationWarning: Call to deprecated `most_similar` (Method will be removed in 4.0.0, use self.wv.most_similar() instead).\n",
      "  \"\"\"Entry point for launching an IPython kernel.\n",
      "2020-05-25 15:05:03,710 : INFO : precomputing L2-norms of word weight vectors\n"
     ]
    },
    {
     "data": {
      "text/plain": [
       "[('lord', 0.7573098540306091),\n",
       " ('christ', 0.7491540312767029),\n",
       " ('hosts', 0.7464927434921265),\n",
       " ('faith', 0.7463841438293457),\n",
       " ('truth', 0.7449558973312378),\n",
       " ('glory', 0.7430640459060669),\n",
       " ('spirit', 0.739150881767273),\n",
       " ('righteousness', 0.7252895832061768),\n",
       " ('salvation', 0.7250869274139404),\n",
       " ('grace', 0.723584771156311)]"
      ]
     },
     "execution_count": 28,
     "metadata": {},
     "output_type": "execute_result"
    }
   ],
   "source": [
    " bible_kjv_word2vec_model.most_similar([\"god\"])"
   ]
  },
  {
   "cell_type": "code",
   "execution_count": 29,
   "metadata": {},
   "outputs": [
    {
     "name": "stderr",
     "output_type": "stream",
     "text": [
      "C:\\Users\\oktay\\Anaconda3\\lib\\site-packages\\ipykernel_launcher.py:1: DeprecationWarning: Call to deprecated `most_similar` (Method will be removed in 4.0.0, use self.wv.most_similar() instead).\n",
      "  \"\"\"Entry point for launching an IPython kernel.\n"
     ]
    },
    {
     "data": {
      "text/plain": [
       "[('lord', 0.7573098540306091),\n",
       " ('christ', 0.7491540312767029),\n",
       " ('hosts', 0.7464927434921265),\n",
       " ('faith', 0.7463841438293457),\n",
       " ('truth', 0.7449558973312378),\n",
       " ('glory', 0.7430640459060669),\n",
       " ('spirit', 0.739150881767273),\n",
       " ('righteousness', 0.7252895832061768),\n",
       " ('salvation', 0.7250869274139404),\n",
       " ('grace', 0.723584771156311),\n",
       " ('gospel', 0.6984094381332397),\n",
       " ('mercy', 0.681983232498169),\n",
       " ('judgment', 0.6706486344337463),\n",
       " ('fear', 0.6697140336036682),\n",
       " ('wisdom', 0.6629800796508789),\n",
       " ('power', 0.6581214666366577),\n",
       " ('strength', 0.6520906686782837),\n",
       " ('hope', 0.6520810723304749),\n",
       " ('kingdom', 0.648892343044281),\n",
       " ('law', 0.6345053911209106),\n",
       " ('word', 0.6320555210113525),\n",
       " ('covenant', 0.6267271041870117),\n",
       " ('master', 0.6255268454551697),\n",
       " ('servant', 0.6225079298019409),\n",
       " ('name', 0.6153872013092041),\n",
       " ('holy', 0.604697048664093),\n",
       " ('supplication', 0.6033994555473328),\n",
       " ('world', 0.5996178984642029),\n",
       " ('prayer', 0.5985270738601685),\n",
       " ('knowledge', 0.5976365804672241)]"
      ]
     },
     "execution_count": 29,
     "metadata": {},
     "output_type": "execute_result"
    }
   ],
   "source": [
    "bible_kjv_word2vec_model.most_similar([\"god\"], topn=30)\n",
    "    "
   ]
  },
  {
   "cell_type": "code",
   "execution_count": 30,
   "metadata": {},
   "outputs": [
    {
     "name": "stderr",
     "output_type": "stream",
     "text": [
      "C:\\Users\\oktay\\Anaconda3\\lib\\site-packages\\ipykernel_launcher.py:1: DeprecationWarning: Call to deprecated `most_similar` (Method will be removed in 4.0.0, use self.wv.most_similar() instead).\n",
      "  \"\"\"Entry point for launching an IPython kernel.\n"
     ]
    },
    {
     "data": {
      "text/plain": [
       "[('david', 0.7858645915985107),\n",
       " ('moses', 0.7757365703582764),\n",
       " ('paul', 0.7261696457862854),\n",
       " ('saul', 0.7017196416854858),\n",
       " ('samuel', 0.6719763278961182),\n",
       " ('joshua', 0.659087061882019),\n",
       " ('john', 0.6564265489578247),\n",
       " ('jeremiah', 0.6545703411102295),\n",
       " ('balaam', 0.6453633308410645),\n",
       " ('peter', 0.6402500867843628),\n",
       " ('word', 0.6377365589141846),\n",
       " ('letters', 0.6236045956611633),\n",
       " ('who', 0.6212213039398193),\n",
       " ('pharaoh', 0.6155193448066711),\n",
       " ('daniel', 0.6138947606086731),\n",
       " ('prophet', 0.603583574295044),\n",
       " ('king', 0.5940192937850952),\n",
       " ('esther', 0.5831252932548523),\n",
       " ('elijah', 0.5806378126144409),\n",
       " ('him', 0.5780994892120361),\n",
       " ('he', 0.5733526349067688),\n",
       " ('messengers', 0.5727950930595398),\n",
       " ('spirit', 0.5659803748130798),\n",
       " ('christ', 0.5658372640609741),\n",
       " ('disciples', 0.565402626991272),\n",
       " ('angel', 0.5610246062278748),\n",
       " ('abraham', 0.5589796900749207),\n",
       " ('jacob', 0.5577291250228882),\n",
       " ('balak', 0.5434077978134155),\n",
       " ('joab', 0.532662034034729)]"
      ]
     },
     "execution_count": 30,
     "metadata": {},
     "output_type": "execute_result"
    }
   ],
   "source": [
    "bible_kjv_word2vec_model.most_similar([\"jesus\"], topn=30)"
   ]
  },
  {
   "cell_type": "code",
   "execution_count": 31,
   "metadata": {},
   "outputs": [
    {
     "name": "stderr",
     "output_type": "stream",
     "text": [
      "C:\\Users\\oktay\\Anaconda3\\lib\\site-packages\\ipykernel_launcher.py:1: DeprecationWarning: Call to deprecated `most_similar` (Method will be removed in 4.0.0, use self.wv.most_similar() instead).\n",
      "  \"\"\"Entry point for launching an IPython kernel.\n"
     ]
    },
    {
     "data": {
      "text/plain": [
       "[('isaac', 0.9325531721115112),\n",
       " ('jacob', 0.8601384162902832),\n",
       " ('esau', 0.8093404769897461),\n",
       " ('aaron', 0.7374744415283203),\n",
       " ('laban', 0.7315617203712463),\n",
       " ('joseph', 0.7300000786781311),\n",
       " ('solomon', 0.7156955599784851),\n",
       " ('jonathan', 0.6997632384300232),\n",
       " ('eleazar', 0.689908504486084),\n",
       " ('david', 0.6742372512817383),\n",
       " ('moses', 0.6614737510681152),\n",
       " ('ithamar', 0.6448426842689514),\n",
       " ('praises', 0.6417832374572754),\n",
       " ('father', 0.6411719918251038),\n",
       " ('scribe', 0.6404927968978882),\n",
       " ('simon', 0.6334735751152039),\n",
       " ('jerubbaal', 0.6302977800369263),\n",
       " ('nun', 0.6301490664482117),\n",
       " ('leah', 0.6300308108329773),\n",
       " ('hamor', 0.6282671093940735),\n",
       " ('james', 0.6242552399635315),\n",
       " ('balaam', 0.622856855392456),\n",
       " ('john', 0.6226097345352173),\n",
       " ('mishael', 0.621758759021759),\n",
       " ('zadok', 0.6199334263801575),\n",
       " ('hezekiah', 0.6192452907562256),\n",
       " ('ishmael', 0.6179390549659729),\n",
       " ('daniel', 0.6154930591583252),\n",
       " ('zilpah', 0.6150460839271545),\n",
       " ('abihu', 0.612710177898407)]"
      ]
     },
     "execution_count": 31,
     "metadata": {},
     "output_type": "execute_result"
    }
   ],
   "source": [
    " bible_kjv_word2vec_model.most_similar([\"abraham\"], topn=30)"
   ]
  }
 ],
 "metadata": {
  "kernelspec": {
   "display_name": "Python 3",
   "language": "python",
   "name": "python3"
  },
  "language_info": {
   "codemirror_mode": {
    "name": "ipython",
    "version": 3
   },
   "file_extension": ".py",
   "mimetype": "text/x-python",
   "name": "python",
   "nbconvert_exporter": "python",
   "pygments_lexer": "ipython3",
   "version": "3.6.8"
  }
 },
 "nbformat": 4,
 "nbformat_minor": 2
}
